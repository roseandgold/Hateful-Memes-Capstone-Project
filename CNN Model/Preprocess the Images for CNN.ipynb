{
 "cells": [
  {
   "cell_type": "markdown",
   "metadata": {},
   "source": [
    "# Preprocess the Images for CNN"
   ]
  },
  {
   "cell_type": "markdown",
   "metadata": {},
   "source": [
    "## Step 1: Import Libraries"
   ]
  },
  {
   "cell_type": "code",
   "execution_count": 1,
   "metadata": {
    "id": "q-zxKa8izdgG"
   },
   "outputs": [],
   "source": [
    "# Import libraries\n",
    "import pandas as pd\n",
    "import os\n",
    "import cv2\n",
    "from PIL import Image\n",
    "import numpy as np\n",
    "import pickle\n",
    "from matplotlib import pyplot as plt\n",
    "%matplotlib inline"
   ]
  },
  {
   "cell_type": "markdown",
   "metadata": {},
   "source": [
    "## Step 2: Read in Data"
   ]
  },
  {
   "cell_type": "code",
   "execution_count": 2,
   "metadata": {
    "colab": {
     "base_uri": "https://localhost:8080/",
     "height": 204
    },
    "id": "wBq5ODGwwiU8",
    "outputId": "015856a6-4c03-4222-fd1e-5ba732d339d2"
   },
   "outputs": [
    {
     "data": {
      "text/html": [
       "<div>\n",
       "<style scoped>\n",
       "    .dataframe tbody tr th:only-of-type {\n",
       "        vertical-align: middle;\n",
       "    }\n",
       "\n",
       "    .dataframe tbody tr th {\n",
       "        vertical-align: top;\n",
       "    }\n",
       "\n",
       "    .dataframe thead th {\n",
       "        text-align: right;\n",
       "    }\n",
       "</style>\n",
       "<table border=\"1\" class=\"dataframe\">\n",
       "  <thead>\n",
       "    <tr style=\"text-align: right;\">\n",
       "      <th></th>\n",
       "      <th>id</th>\n",
       "      <th>img</th>\n",
       "      <th>label</th>\n",
       "      <th>text</th>\n",
       "    </tr>\n",
       "  </thead>\n",
       "  <tbody>\n",
       "    <tr>\n",
       "      <th>0</th>\n",
       "      <td>8291</td>\n",
       "      <td>img/08291.png</td>\n",
       "      <td>1</td>\n",
       "      <td>white people is this a shooting range</td>\n",
       "    </tr>\n",
       "    <tr>\n",
       "      <th>1</th>\n",
       "      <td>46971</td>\n",
       "      <td>img/46971.png</td>\n",
       "      <td>1</td>\n",
       "      <td>bravery at its finest</td>\n",
       "    </tr>\n",
       "    <tr>\n",
       "      <th>2</th>\n",
       "      <td>3745</td>\n",
       "      <td>img/03745.png</td>\n",
       "      <td>1</td>\n",
       "      <td>your order comes to $37.50 and your white priv...</td>\n",
       "    </tr>\n",
       "    <tr>\n",
       "      <th>3</th>\n",
       "      <td>83745</td>\n",
       "      <td>img/83745.png</td>\n",
       "      <td>1</td>\n",
       "      <td>it is time.. to send these parasites back to t...</td>\n",
       "    </tr>\n",
       "    <tr>\n",
       "      <th>4</th>\n",
       "      <td>80243</td>\n",
       "      <td>img/80243.png</td>\n",
       "      <td>1</td>\n",
       "      <td>mississippi wind chime</td>\n",
       "    </tr>\n",
       "  </tbody>\n",
       "</table>\n",
       "</div>"
      ],
      "text/plain": [
       "      id            img  label  \\\n",
       "0   8291  img/08291.png      1   \n",
       "1  46971  img/46971.png      1   \n",
       "2   3745  img/03745.png      1   \n",
       "3  83745  img/83745.png      1   \n",
       "4  80243  img/80243.png      1   \n",
       "\n",
       "                                                text  \n",
       "0              white people is this a shooting range  \n",
       "1                              bravery at its finest  \n",
       "2  your order comes to $37.50 and your white priv...  \n",
       "3  it is time.. to send these parasites back to t...  \n",
       "4                             mississippi wind chime  "
      ]
     },
     "execution_count": 2,
     "metadata": {},
     "output_type": "execute_result"
    }
   ],
   "source": [
    "# Import necessary files\n",
    "train_file = 'hateful_memes/train.jsonl'\n",
    "test_file = 'hateful_memes/dev_seen.jsonl'\n",
    "final_test_file = 'hateful_memes/test_seen.jsonl'\n",
    "\n",
    "train_data = pd.read_json(train_file, lines = True)\n",
    "test_data = pd.read_json(test_file, lines = True)\n",
    "final_test_data = pd.read_json(final_test_file, lines = True)\n",
    "test_data.head()"
   ]
  },
  {
   "cell_type": "code",
   "execution_count": 21,
   "metadata": {},
   "outputs": [
    {
     "data": {
      "text/plain": [
       "8500"
      ]
     },
     "execution_count": 21,
     "metadata": {},
     "output_type": "execute_result"
    }
   ],
   "source": [
    "len(train_data)"
   ]
  },
  {
   "cell_type": "code",
   "execution_count": 9,
   "metadata": {
    "colab": {
     "base_uri": "https://localhost:8080/"
    },
    "id": "A-Ylu1iRvWRy",
    "outputId": "d9abb47d-0191-49db-fa44-6feacd88081a"
   },
   "outputs": [],
   "source": [
    "# Get just the image number\n",
    "train_data['img'] = train_data['img'].str.replace('img/','')\n",
    "test_data['img'] = test_data['img'].str.replace('img/', '')\n",
    "final_test_data['img'] = final_test_data['img'].str.replace('img/', '')\n",
    "\n",
    "# Get a dictionary of testing and training images with labels\n",
    "training_img = dict(zip(train_data['img'], train_data['label']))\n",
    "testing_img = dict(zip(test_data['img'], test_data['label']))\n",
    "final_test_img = dict(zip(final_test_data['img'], final_test_data['label']))"
   ]
  },
  {
   "cell_type": "code",
   "execution_count": 25,
   "metadata": {
    "colab": {
     "base_uri": "https://localhost:8080/",
     "height": 402
    },
    "id": "ywcRto9w1DNw",
    "outputId": "626b7b78-735b-42e3-d84f-c275a0992b1f"
   },
   "outputs": [
    {
     "name": "stdout",
     "output_type": "stream",
     "text": [
      "Images processed:  0\n",
      "Training images:  0\n",
      "Testing images:  0\n",
      "Final Test images:  0\n",
      "Images processed:  1000\n",
      "Training images:  702\n",
      "Testing images:  50\n",
      "Final Test images:  72\n",
      "Images processed:  2000\n",
      "Training images:  1380\n",
      "Testing images:  97\n",
      "Final Test images:  160\n",
      "Images processed:  3000\n",
      "Training images:  2067\n",
      "Testing images:  139\n",
      "Final Test images:  244\n",
      "Images processed:  4000\n",
      "Training images:  2754\n",
      "Testing images:  183\n",
      "Final Test images:  324\n",
      "Images processed:  5000\n",
      "Training images:  3477\n",
      "Testing images:  220\n",
      "Final Test images:  387\n",
      "Images processed:  6000\n",
      "Training images:  4184\n",
      "Testing images:  249\n",
      "Final Test images:  464\n",
      "Images processed:  7000\n",
      "Training images:  4886\n",
      "Testing images:  283\n",
      "Final Test images:  545\n",
      "Images processed:  8000\n",
      "Training images:  5557\n",
      "Testing images:  332\n",
      "Final Test images:  636\n",
      "Images processed:  9000\n",
      "Training images:  6290\n",
      "Testing images:  365\n",
      "Final Test images:  718\n",
      "Images processed:  10000\n",
      "Training images:  7004\n",
      "Testing images:  411\n",
      "Final Test images:  795\n",
      "Images processed:  11000\n",
      "Training images:  7690\n",
      "Testing images:  447\n",
      "Final Test images:  900\n",
      "Images processed:  12000\n",
      "Training images:  8401\n",
      "Testing images:  488\n",
      "Final Test images:  983\n"
     ]
    },
    {
     "data": {
      "text/plain": [
       "(200, 200, 3)"
      ]
     },
     "execution_count": 25,
     "metadata": {},
     "output_type": "execute_result"
    }
   ],
   "source": [
    "# Get the image files and resize them so they are all the same size\n",
    "directory = 'hateful_memes/img/'\n",
    "train_images = []\n",
    "train_labels = []\n",
    "test_images = []\n",
    "test_labels = []\n",
    "final_test_images = []\n",
    "final_test_labels = []\n",
    "count = 0\n",
    "img_size = 200\n",
    "for file in os.listdir(directory):\n",
    "    if file in training_img:\n",
    "        img = cv2.imread(directory + file)\n",
    "        img = cv2.resize(img, (img_size, img_size)) # resize\n",
    "        img = cv2.cvtColor(img, cv2.COLOR_BGR2RGB) # make sure color is correct\n",
    "        train_images.append(img)\n",
    "        train_labels.append(training_img[file])\n",
    "    elif file in testing_img:\n",
    "        img = cv2.imread(directory + file)\n",
    "        img = cv2.resize(img, (img_size, img_size)) # resize\n",
    "        img = cv2.cvtColor(img, cv2.COLOR_BGR2RGB) # make sure color is correct\n",
    "        test_images.append(img)\n",
    "        test_labels.append(testing_img[file])\n",
    "    elif file in final_test_img:\n",
    "        img = cv2.imread(directory + file)\n",
    "        img = cv2.resize(img, (img_size, img_size)) # resize\n",
    "        img = cv2.cvtColor(img, cv2.COLOR_BGR2RGB) # make sure color is correct\n",
    "        final_test_images.append(img)\n",
    "        final_test_labels.append(final_test_img[file])\n",
    "    if count % 1000 == 0:\n",
    "        print('Images processed: ', count)\n",
    "        print('Training images: ', len(train_images))\n",
    "        print('Testing images: ', len(test_images))\n",
    "        print('Final Test images: ', len(final_test_images))\n",
    "    count += 1\n",
    "\n",
    "train_images[0].shape"
   ]
  },
  {
   "cell_type": "code",
   "execution_count": 28,
   "metadata": {
    "colab": {
     "base_uri": "https://localhost:8080/",
     "height": 286
    },
    "id": "GfyfznWE-BLG",
    "outputId": "72db6a00-6dd2-4a24-96b4-e5f264391aa5"
   },
   "outputs": [
    {
     "data": {
      "text/plain": [
       "<matplotlib.image.AxesImage at 0x7ff74429b7f0>"
      ]
     },
     "execution_count": 28,
     "metadata": {},
     "output_type": "execute_result"
    },
    {
     "data": {
      "image/png": "[encoded data removed]",
      "text/plain": [
       "<Figure size 432x288 with 1 Axes>"
      ]
     },
     "metadata": {
      "needs_background": "light"
     },
     "output_type": "display_data"
    }
   ],
   "source": [
    "plt.imshow(train_images[1])"
   ]
  },
  {
   "cell_type": "code",
   "execution_count": 29,
   "metadata": {
    "colab": {
     "base_uri": "https://localhost:8080/",
     "height": 142
    },
    "id": "e47koqpbG-5s",
    "outputId": "b91b4992-5389-4455-c297-f00594ab91e1"
   },
   "outputs": [
    {
     "data": {
      "text/html": [
       "<div>\n",
       "<style scoped>\n",
       "    .dataframe tbody tr th:only-of-type {\n",
       "        vertical-align: middle;\n",
       "    }\n",
       "\n",
       "    .dataframe tbody tr th {\n",
       "        vertical-align: top;\n",
       "    }\n",
       "\n",
       "    .dataframe thead th {\n",
       "        text-align: right;\n",
       "    }\n",
       "</style>\n",
       "<table border=\"1\" class=\"dataframe\">\n",
       "  <thead>\n",
       "    <tr style=\"text-align: right;\">\n",
       "      <th></th>\n",
       "      <th>id</th>\n",
       "      <th>img</th>\n",
       "      <th>label</th>\n",
       "      <th>text</th>\n",
       "    </tr>\n",
       "  </thead>\n",
       "  <tbody>\n",
       "    <tr>\n",
       "      <th>1211</th>\n",
       "      <td>57348</td>\n",
       "      <td>57348.png</td>\n",
       "      <td>1</td>\n",
       "      <td>see? i fuckin told you a little foil on top ke...</td>\n",
       "    </tr>\n",
       "    <tr>\n",
       "      <th>5858</th>\n",
       "      <td>31925</td>\n",
       "      <td>31925.png</td>\n",
       "      <td>1</td>\n",
       "      <td>see? i fuckin told you a little foil on top ke...</td>\n",
       "    </tr>\n",
       "    <tr>\n",
       "      <th>8249</th>\n",
       "      <td>17843</td>\n",
       "      <td>17843.png</td>\n",
       "      <td>1</td>\n",
       "      <td>see? i fuckin told you a little foil on top ke...</td>\n",
       "    </tr>\n",
       "  </tbody>\n",
       "</table>\n",
       "</div>"
      ],
      "text/plain": [
       "         id        img  label  \\\n",
       "1211  57348  57348.png      1   \n",
       "5858  31925  31925.png      1   \n",
       "8249  17843  17843.png      1   \n",
       "\n",
       "                                                   text  \n",
       "1211  see? i fuckin told you a little foil on top ke...  \n",
       "5858  see? i fuckin told you a little foil on top ke...  \n",
       "8249  see? i fuckin told you a little foil on top ke...  "
      ]
     },
     "execution_count": 29,
     "metadata": {},
     "output_type": "execute_result"
    }
   ],
   "source": [
    "train_data[train_data['text'].str.contains(\"medium rare\")]"
   ]
  },
  {
   "cell_type": "code",
   "execution_count": 30,
   "metadata": {
    "colab": {
     "base_uri": "https://localhost:8080/"
    },
    "id": "CJp8A8Mh-WhY",
    "outputId": "93eb6323-2bb5-49a8-9b6e-66389523111d"
   },
   "outputs": [
    {
     "data": {
      "text/plain": [
       "1"
      ]
     },
     "execution_count": 30,
     "metadata": {},
     "output_type": "execute_result"
    }
   ],
   "source": [
    "train_labels[1]"
   ]
  },
  {
   "cell_type": "markdown",
   "metadata": {},
   "source": [
    "## Step 3: Reshape the Data"
   ]
  },
  {
   "cell_type": "code",
   "execution_count": 31,
   "metadata": {},
   "outputs": [],
   "source": [
    "# Convert the training and testing image arrays to numpy arrays\n",
    "train_images = np.array(train_images).reshape(-1, img_size, img_size, 3)\n",
    "test_images = np.array(test_images).reshape(-1, img_size, img_size, 3)\n",
    "final_test_images = np.array(final_test_images).reshape(-1, img_size, img_size, 3)"
   ]
  },
  {
   "cell_type": "code",
   "execution_count": 32,
   "metadata": {},
   "outputs": [
    {
     "data": {
      "text/plain": [
       "(8500, 200, 200, 3)"
      ]
     },
     "execution_count": 32,
     "metadata": {},
     "output_type": "execute_result"
    }
   ],
   "source": [
    "# Check the shape of the data\n",
    "train_images.shape"
   ]
  },
  {
   "cell_type": "markdown",
   "metadata": {},
   "source": [
    "## Step 4: Pickle the Data"
   ]
  },
  {
   "cell_type": "code",
   "execution_count": 33,
   "metadata": {
    "colab": {
     "base_uri": "https://localhost:8080/",
     "height": 232
    },
    "id": "-crWDIrj3Wgv",
    "outputId": "d68fe88f-fc6a-4d84-f98f-20bbc44fb887"
   },
   "outputs": [
    {
     "name": "stdout",
     "output_type": "stream",
     "text": [
      "hateful_memes/pickles/training_images.p saved\n",
      "hateful_memes/pickles/training_labels.p saved\n",
      "hateful_memes/pickles/testing_images.p saved\n",
      "hateful_memes/pickles/testing_labels.p saved\n",
      "hateful_memes/pickles/testing_final_images.p saved\n",
      "hateful_memes/pickles/testing_final_labels.p saved\n"
     ]
    }
   ],
   "source": [
    "# Save the training and test image arrays to pickle files\n",
    "def save_pickle(filepath, obj):\n",
    "    with open(filepath, 'wb') as filehandler:\n",
    "        pickle.dump(obj, filehandler)\n",
    "    print('{} saved'.format(filepath))\n",
    "\n",
    "\n",
    "directory = 'hateful_memes/pickles/'    \n",
    "train_file = directory + 'training_images.p'\n",
    "train_labels_file = directory + 'training_labels.p'\n",
    "test_file = directory + 'testing_images.p'\n",
    "test_labels_file = directory + 'testing_labels.p'\n",
    "test_final_file = directory + 'testing_final_images.p'\n",
    "test_final_labels_file = directory + 'testing_final_labels.p'\n",
    "\n",
    "save_pickle(train_file, train_images)\n",
    "save_pickle(train_labels_file, train_labels)\n",
    "save_pickle(test_file, test_images)\n",
    "save_pickle(test_labels_file, test_labels)\n",
    "save_pickle(test_final_file, final_test_images)\n",
    "save_pickle(test_final_labels_file, final_test_labels)"
   ]
  },
  {
   "cell_type": "code",
   "execution_count": null,
   "metadata": {},
   "outputs": [],
   "source": []
  }
 ],
 "metadata": {
  "colab": {
   "collapsed_sections": [],
   "name": "Capstone Testing",
   "provenance": []
  },
  "kernelspec": {
   "display_name": "Python 3",
   "language": "python",
   "name": "python3"
  },
  "language_info": {
   "codemirror_mode": {
    "name": "ipython",
    "version": 3
   },
   "file_extension": ".py",
   "mimetype": "text/x-python",
   "name": "python",
   "nbconvert_exporter": "python",
   "pygments_lexer": "ipython3",
   "version": "3.8.5"
  }
 },
 "nbformat": 4,
 "nbformat_minor": 1
}
